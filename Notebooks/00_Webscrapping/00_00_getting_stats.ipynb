{
 "cells": [
  {
   "cell_type": "code",
   "execution_count": null,
   "metadata": {},
   "outputs": [],
   "source": [
    "#| default_exp scrape"
   ]
  },
  {
   "attachments": {},
   "cell_type": "markdown",
   "metadata": {},
   "source": [
    "# Getting stats\n",
    "\n",
    "> Our first step will be obtaining the stats of the Pokémon."
   ]
  },
  {
   "attachments": {},
   "cell_type": "markdown",
   "metadata": {},
   "source": [
    "I found *pokemondb* to be an interesting source of information. Our first step is going to be trying to scrape this table containing all the pokemons and their respective stats: https://pokemondb.net/pokedex/all"
   ]
  },
  {
   "cell_type": "code",
   "execution_count": null,
   "metadata": {},
   "outputs": [],
   "source": [
    "#| export\n",
    "import re\n",
    "import requests\n",
    "from bs4 import BeautifulSoup\n",
    "\n",
    "import pandas as pd\n",
    "from fastcore.foundation import L"
   ]
  },
  {
   "attachments": {},
   "cell_type": "markdown",
   "metadata": {},
   "source": [
    "First we'll obtain the webpage with `requests`:"
   ]
  },
  {
   "cell_type": "code",
   "execution_count": null,
   "metadata": {},
   "outputs": [
    {
     "data": {
      "text/plain": [
       "<Response [200]>"
      ]
     },
     "execution_count": null,
     "metadata": {},
     "output_type": "execute_result"
    }
   ],
   "source": [
    "r = requests.get(\"https://pokemondb.net/pokedex/all\")\n",
    "r"
   ]
  },
  {
   "attachments": {},
   "cell_type": "markdown",
   "metadata": {},
   "source": [
    "Then, we can parse it with `BeautifulSoup`:"
   ]
  },
  {
   "cell_type": "code",
   "execution_count": null,
   "metadata": {},
   "outputs": [],
   "source": [
    "soup = BeautifulSoup(r.text, \"html.parser\")"
   ]
  },
  {
   "attachments": {},
   "cell_type": "markdown",
   "metadata": {},
   "source": [
    "First we will trying to get the header of the table. It's inside a `<thead>`, so it should be easy to get:"
   ]
  },
  {
   "cell_type": "code",
   "execution_count": null,
   "metadata": {},
   "outputs": [
    {
     "data": {
      "text/plain": [
       "(#10) ['#','Name','Type','Total','HP','Attack','Defense','Sp. Atk','Sp. Def','Speed']"
      ]
     },
     "execution_count": null,
     "metadata": {},
     "output_type": "execute_result"
    }
   ],
   "source": [
    "header = soup.find(\"thead\")\n",
    "header = L([th.text for th in header.find_all(\"th\")])\n",
    "header"
   ]
  },
  {
   "attachments": {},
   "cell_type": "markdown",
   "metadata": {},
   "source": [
    "The information we want is inside a `<table>` with `id=pokedex`, so we can use `find()` to try and find it:"
   ]
  },
  {
   "cell_type": "code",
   "execution_count": null,
   "metadata": {},
   "outputs": [],
   "source": [
    "pokedex = soup.find(\"table\", id=\"pokedex\")"
   ]
  },
  {
   "attachments": {},
   "cell_type": "markdown",
   "metadata": {},
   "source": [
    "The information inside the table is located inside `<tr>` elements, where multiple `<td>` elements are contained representing the rows. At first, we want to keep all the columns, so we will try to extract the text inside each of this elements (it will be interesting to ibtain their icons as well, but we will try that later if we fill like it)."
   ]
  },
  {
   "cell_type": "code",
   "execution_count": null,
   "metadata": {},
   "outputs": [
    {
     "data": {
      "text/plain": [
       "(#4) ['001','Bulbasaur','Grass Poison','318']"
      ]
     },
     "execution_count": null,
     "metadata": {},
     "output_type": "execute_result"
    }
   ],
   "source": [
    "cells = pokedex.find_all(\"td\")\n",
    "cells = L([cell.text for cell in cells])\n",
    "cells[:4]"
   ]
  },
  {
   "attachments": {},
   "cell_type": "markdown",
   "metadata": {},
   "source": [
    "As of now, we have a *loong* list with all the data in the table, but if we want to transform it into a list of lists mantaining the table structure, we can build a new list of lists with a list comprehension:"
   ]
  },
  {
   "cell_type": "code",
   "execution_count": null,
   "metadata": {},
   "outputs": [
    {
     "data": {
      "text/plain": [
       "(#1190) [['001', 'Bulbasaur', 'Grass Poison', '318', '45', '49', '49', '65', '65', '45'],['002', 'Ivysaur', 'Grass Poison', '405', '60', '62', '63', '80', '80', '60'],['003', 'Venusaur', 'Grass Poison', '525', '80', '82', '83', '100', '100', '80'],['003', 'Venusaur Mega Venusaur', 'Grass Poison', '625', '80', '100', '123', '122', '120', '80'],['004', 'Charmander', 'Fire ', '309', '39', '52', '43', '60', '50', '65'],['005', 'Charmeleon', 'Fire ', '405', '58', '64', '58', '80', '65', '80'],['006', 'Charizard', 'Fire Flying', '534', '78', '84', '78', '109', '85', '100'],['006', 'Charizard Mega Charizard X', 'Fire Dragon', '634', '78', '130', '111', '130', '85', '100'],['006', 'Charizard Mega Charizard Y', 'Fire Flying', '634', '78', '104', '78', '159', '115', '100'],['007', 'Squirtle', 'Water ', '314', '44', '48', '65', '50', '64', '43']...]"
      ]
     },
     "execution_count": null,
     "metadata": {},
     "output_type": "execute_result"
    }
   ],
   "source": [
    "table = L([cells[i:i+len(header)] for i in range(0, len(cells), len(header))])\n",
    "table"
   ]
  },
  {
   "attachments": {},
   "cell_type": "markdown",
   "metadata": {},
   "source": [
    "Finally we only have to turn this into a `DataFrame`:"
   ]
  },
  {
   "cell_type": "code",
   "execution_count": null,
   "metadata": {},
   "outputs": [
    {
     "data": {
      "text/html": [
       "<div>\n",
       "<style scoped>\n",
       "    .dataframe tbody tr th:only-of-type {\n",
       "        vertical-align: middle;\n",
       "    }\n",
       "\n",
       "    .dataframe tbody tr th {\n",
       "        vertical-align: top;\n",
       "    }\n",
       "\n",
       "    .dataframe thead th {\n",
       "        text-align: right;\n",
       "    }\n",
       "</style>\n",
       "<table border=\"1\" class=\"dataframe\">\n",
       "  <thead>\n",
       "    <tr style=\"text-align: right;\">\n",
       "      <th></th>\n",
       "      <th>#</th>\n",
       "      <th>Name</th>\n",
       "      <th>Type</th>\n",
       "      <th>Total</th>\n",
       "      <th>HP</th>\n",
       "      <th>Attack</th>\n",
       "      <th>Defense</th>\n",
       "      <th>Sp. Atk</th>\n",
       "      <th>Sp. Def</th>\n",
       "      <th>Speed</th>\n",
       "    </tr>\n",
       "  </thead>\n",
       "  <tbody>\n",
       "    <tr>\n",
       "      <th>0</th>\n",
       "      <td>001</td>\n",
       "      <td>Bulbasaur</td>\n",
       "      <td>Grass Poison</td>\n",
       "      <td>318</td>\n",
       "      <td>45</td>\n",
       "      <td>49</td>\n",
       "      <td>49</td>\n",
       "      <td>65</td>\n",
       "      <td>65</td>\n",
       "      <td>45</td>\n",
       "    </tr>\n",
       "    <tr>\n",
       "      <th>1</th>\n",
       "      <td>002</td>\n",
       "      <td>Ivysaur</td>\n",
       "      <td>Grass Poison</td>\n",
       "      <td>405</td>\n",
       "      <td>60</td>\n",
       "      <td>62</td>\n",
       "      <td>63</td>\n",
       "      <td>80</td>\n",
       "      <td>80</td>\n",
       "      <td>60</td>\n",
       "    </tr>\n",
       "    <tr>\n",
       "      <th>2</th>\n",
       "      <td>003</td>\n",
       "      <td>Venusaur</td>\n",
       "      <td>Grass Poison</td>\n",
       "      <td>525</td>\n",
       "      <td>80</td>\n",
       "      <td>82</td>\n",
       "      <td>83</td>\n",
       "      <td>100</td>\n",
       "      <td>100</td>\n",
       "      <td>80</td>\n",
       "    </tr>\n",
       "    <tr>\n",
       "      <th>3</th>\n",
       "      <td>003</td>\n",
       "      <td>Venusaur Mega Venusaur</td>\n",
       "      <td>Grass Poison</td>\n",
       "      <td>625</td>\n",
       "      <td>80</td>\n",
       "      <td>100</td>\n",
       "      <td>123</td>\n",
       "      <td>122</td>\n",
       "      <td>120</td>\n",
       "      <td>80</td>\n",
       "    </tr>\n",
       "    <tr>\n",
       "      <th>4</th>\n",
       "      <td>004</td>\n",
       "      <td>Charmander</td>\n",
       "      <td>Fire</td>\n",
       "      <td>309</td>\n",
       "      <td>39</td>\n",
       "      <td>52</td>\n",
       "      <td>43</td>\n",
       "      <td>60</td>\n",
       "      <td>50</td>\n",
       "      <td>65</td>\n",
       "    </tr>\n",
       "  </tbody>\n",
       "</table>\n",
       "</div>"
      ],
      "text/plain": [
       "     #                    Name          Type Total  HP Attack Defense Sp. Atk  \\\n",
       "0  001               Bulbasaur  Grass Poison   318  45     49      49      65   \n",
       "1  002                 Ivysaur  Grass Poison   405  60     62      63      80   \n",
       "2  003                Venusaur  Grass Poison   525  80     82      83     100   \n",
       "3  003  Venusaur Mega Venusaur  Grass Poison   625  80    100     123     122   \n",
       "4  004              Charmander         Fire    309  39     52      43      60   \n",
       "\n",
       "  Sp. Def Speed  \n",
       "0      65    45  \n",
       "1      80    60  \n",
       "2     100    80  \n",
       "3     120    80  \n",
       "4      50    65  "
      ]
     },
     "execution_count": null,
     "metadata": {},
     "output_type": "execute_result"
    }
   ],
   "source": [
    "pokedex = pd.DataFrame(table, columns=header)\n",
    "pokedex.head()"
   ]
  },
  {
   "attachments": {},
   "cell_type": "markdown",
   "metadata": {},
   "source": [
    "Everything in our `DataFrame` is a string (because we scraped them just as plain text), so we need to turn the numbers into `int`. We will be removing the trailing spaces when only one `Type` is present with `.strip()`:"
   ]
  },
  {
   "cell_type": "code",
   "execution_count": null,
   "metadata": {},
   "outputs": [],
   "source": [
    "pokedex[\"#\"] = pokedex[\"#\"].astype(int)\n",
    "pokedex[\"Type\"] = pokedex[\"Type\"].apply(lambda x: x.strip())\n",
    "pokedex.iloc[:,3:] = pokedex.iloc[:,3:].astype(int)"
   ]
  },
  {
   "cell_type": "code",
   "execution_count": null,
   "metadata": {},
   "outputs": [
    {
     "name": "stdout",
     "output_type": "stream",
     "text": [
      "<class 'pandas.core.frame.DataFrame'>\n",
      "RangeIndex: 1190 entries, 0 to 1189\n",
      "Data columns (total 10 columns):\n",
      " #   Column   Non-Null Count  Dtype \n",
      "---  ------   --------------  ----- \n",
      " 0   #        1190 non-null   int64 \n",
      " 1   Name     1190 non-null   object\n",
      " 2   Type     1190 non-null   object\n",
      " 3   Total    1190 non-null   int64 \n",
      " 4   HP       1190 non-null   int64 \n",
      " 5   Attack   1190 non-null   int64 \n",
      " 6   Defense  1190 non-null   int64 \n",
      " 7   Sp. Atk  1190 non-null   int64 \n",
      " 8   Sp. Def  1190 non-null   int64 \n",
      " 9   Speed    1190 non-null   int64 \n",
      "dtypes: int64(8), object(2)\n",
      "memory usage: 93.1+ KB\n"
     ]
    }
   ],
   "source": [
    "pokedex.info()"
   ]
  },
  {
   "attachments": {},
   "cell_type": "markdown",
   "metadata": {},
   "source": [
    "Finally, to ensure that everything has been done correctly, we can perform some checks on the data:"
   ]
  },
  {
   "cell_type": "code",
   "execution_count": null,
   "metadata": {},
   "outputs": [],
   "source": [
    "assert (pokedex.Total == pokedex.iloc[:,4:].sum(axis=1)).all()"
   ]
  },
  {
   "cell_type": "code",
   "execution_count": null,
   "metadata": {},
   "outputs": [],
   "source": [
    "assert pokedex.Type.apply(lambda x: len(x.split(\" \"))).max() == 2\n",
    "assert pokedex.Type.apply(lambda x: len(x.split(\" \"))).min() == 1"
   ]
  },
  {
   "attachments": {},
   "cell_type": "markdown",
   "metadata": {},
   "source": [
    "Now that everything is checked and looks correct, we can save the file in `.csv` format:"
   ]
  },
  {
   "cell_type": "code",
   "execution_count": null,
   "metadata": {},
   "outputs": [],
   "source": [
    "#| notest\n",
    "pokedex.to_csv(\"../../Data/pokedex.csv\", index=False)"
   ]
  }
 ],
 "metadata": {
  "kernelspec": {
   "display_name": "gpu",
   "language": "python",
   "name": "python3"
  }
 },
 "nbformat": 4,
 "nbformat_minor": 2
}
