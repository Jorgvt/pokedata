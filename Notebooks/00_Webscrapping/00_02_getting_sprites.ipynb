{
 "cells": [
  {
   "cell_type": "code",
   "execution_count": null,
   "metadata": {},
   "outputs": [],
   "source": [
    "#| default_exp scrape.sprites"
   ]
  },
  {
   "attachments": {},
   "cell_type": "markdown",
   "metadata": {},
   "source": [
    "# Getting sprites\n",
    "\n",
    "> Let's scrape some pokemon sprites and their shiny counter parts."
   ]
  },
  {
   "attachments": {},
   "cell_type": "markdown",
   "metadata": {},
   "source": [
    "I found *pokemondb* to be an interesting source of information. Our first step is going to be trying to scrape this table containing all the pokemons and their respective stats: https://pokemondb.net/pokedex/all"
   ]
  },
  {
   "cell_type": "code",
   "execution_count": null,
   "metadata": {},
   "outputs": [],
   "source": [
    "#| export\n",
    "import re\n",
    "import requests\n",
    "from bs4 import BeautifulSoup\n",
    "\n",
    "import pandas as pd\n",
    "from fastcore.foundation import L\n",
    "from fastcore.xtras import Path\n",
    "from fastcore.parallel import parallel\n",
    "from fastprogress.fastprogress import progress_bar"
   ]
  },
  {
   "attachments": {},
   "cell_type": "markdown",
   "metadata": {},
   "source": [
    "First we'll obtain the webpage with `requests`. To access the sprites page, we will have to add `#dex-sprites` to the specific pokemon url."
   ]
  },
  {
   "cell_type": "code",
   "execution_count": null,
   "metadata": {},
   "outputs": [
    {
     "data": {
      "text/plain": [
       "<Response [200]>"
      ]
     },
     "execution_count": null,
     "metadata": {},
     "output_type": "execute_result"
    }
   ],
   "source": [
    "r = requests.get(\"https://pokemondb.net/pokedex/all\")\n",
    "r"
   ]
  },
  {
   "attachments": {},
   "cell_type": "markdown",
   "metadata": {},
   "source": [
    "Then, we can parse it with `BeautifulSoup`:"
   ]
  },
  {
   "cell_type": "code",
   "execution_count": null,
   "metadata": {},
   "outputs": [],
   "source": [
    "soup = BeautifulSoup(r.text, \"html.parser\")"
   ]
  },
  {
   "attachments": {},
   "cell_type": "markdown",
   "metadata": {},
   "source": [
    "First we will trying to get the header of the table. It's inside a `<thead>`, so it should be easy to get:"
   ]
  },
  {
   "cell_type": "code",
   "execution_count": null,
   "metadata": {},
   "outputs": [
    {
     "data": {
      "text/plain": [
       "(#10) ['#','Name','Type','Total','HP','Attack','Defense','Sp. Atk','Sp. Def','Speed']"
      ]
     },
     "execution_count": null,
     "metadata": {},
     "output_type": "execute_result"
    }
   ],
   "source": [
    "header = soup.find(\"thead\")\n",
    "header = L([th.text for th in header.find_all(\"th\")])\n",
    "header"
   ]
  },
  {
   "attachments": {},
   "cell_type": "markdown",
   "metadata": {},
   "source": [
    "The information we want is inside a `<table>` with `id=pokedex`, so we can use `find()` to try and find it:"
   ]
  },
  {
   "cell_type": "code",
   "execution_count": null,
   "metadata": {},
   "outputs": [],
   "source": [
    "pokedex = soup.find(\"table\", id=\"pokedex\")"
   ]
  },
  {
   "attachments": {},
   "cell_type": "markdown",
   "metadata": {},
   "source": [
    "The links are located inside the `<td>` of class `cell-name`:"
   ]
  },
  {
   "cell_type": "code",
   "execution_count": null,
   "metadata": {},
   "outputs": [
    {
     "data": {
      "text/plain": [
       "(#1190) ['/pokedex/bulbasaur#dex-sprites','/pokedex/ivysaur#dex-sprites','/pokedex/venusaur#dex-sprites','/pokedex/venusaur#dex-sprites','/pokedex/charmander#dex-sprites','/pokedex/charmeleon#dex-sprites','/pokedex/charizard#dex-sprites','/pokedex/charizard#dex-sprites','/pokedex/charizard#dex-sprites','/pokedex/squirtle#dex-sprites'...]"
      ]
     },
     "execution_count": null,
     "metadata": {},
     "output_type": "execute_result"
    }
   ],
   "source": [
    "links = L([cell_name.a[\"href\"]+\"#dex-sprites\" for cell_name in pokedex.find_all(\"td\", {\"class\": \"cell-name\"})])\n",
    "links"
   ]
  },
  {
   "attachments": {},
   "cell_type": "markdown",
   "metadata": {},
   "source": [
    "Because we don't want to have repeated data, we can keep only the unique elements:"
   ]
  },
  {
   "cell_type": "code",
   "execution_count": null,
   "metadata": {},
   "outputs": [
    {
     "data": {
      "text/plain": [
       "(#1008) ['/pokedex/bulbasaur#dex-sprites','/pokedex/ivysaur#dex-sprites','/pokedex/venusaur#dex-sprites','/pokedex/charmander#dex-sprites','/pokedex/charmeleon#dex-sprites','/pokedex/charizard#dex-sprites','/pokedex/squirtle#dex-sprites','/pokedex/wartortle#dex-sprites','/pokedex/blastoise#dex-sprites','/pokedex/caterpie#dex-sprites'...]"
      ]
     },
     "execution_count": null,
     "metadata": {},
     "output_type": "execute_result"
    }
   ],
   "source": [
    "links = links.unique()\n",
    "links"
   ]
  },
  {
   "attachments": {},
   "cell_type": "markdown",
   "metadata": {},
   "source": [
    "Now we can iterate over the links to get all the images:"
   ]
  },
  {
   "cell_type": "code",
   "execution_count": null,
   "metadata": {},
   "outputs": [],
   "source": [
    "home = \"https://pokemondb.net\"\n",
    "path_data = Path(\"../../Data/Images/Sprites\")"
   ]
  },
  {
   "attachments": {},
   "cell_type": "markdown",
   "metadata": {},
   "source": [
    "Inside this page, we are interested in the sprites per generation table, which can be found by the `<table class=\"data-table sprites-table sprites-history-table\">` tag.\n",
    "\n",
    "The **header** of the table (`<thead>`) tells us which generation are we looking at, and the column `Type` will tell us if we're looking at the normal or shiny version. Keep in mind that not all generations sprites are present.\n",
    "\n",
    "Meanwhile, the **body** of the table contains two rows (`<tr>`) with the sprites. The first element of the row tells us if we're in the *Normal* or *Shiny* row."
   ]
  },
  {
   "cell_type": "code",
   "execution_count": null,
   "metadata": {},
   "outputs": [],
   "source": [
    "#| exporti\n",
    "def get_sprites(row, # Row of a sprites table.\n",
    "                ):\n",
    "    tds = row.find_all(\"td\")\n",
    "    sprites = L([td.find(\"a\")[\"href\"] if td.find(\"a\") is not None else None for td in tds[1:]])\n",
    "    sprites.insert(0, tds[0].text)\n",
    "    return sprites"
   ]
  },
  {
   "attachments": {},
   "cell_type": "markdown",
   "metadata": {},
   "source": [
    "We'll put everything inside a function so that we can use `parallel` to speed up the process:"
   ]
  },
  {
   "cell_type": "code",
   "execution_count": null,
   "metadata": {},
   "outputs": [],
   "source": [
    "#| export\n",
    "def build_df_sprites(link):\n",
    "    index = []\n",
    "    pokemon_name = link.split(\"/\")[-1].split(\"#\")[0]\n",
    "    route = f\"{home}/{link}\"\n",
    "    r_ = requests.get(route)\n",
    "    soup_ = BeautifulSoup(r_.text, \"html.parser\")\n",
    "    sprites_table = soup_.find(\"table\", attrs={\"class\": \"data-table sprites-table sprites-history-table\"})\n",
    "    sprites_header = L([th.text for th in sprites_table.find(\"thead\").find_all(\"th\")])\n",
    "    sprites_header.map(lambda x: x.replace(\" \", \"_\"))\n",
    "    normal_row, shiny_row = sprites_table.find(\"tbody\").find_all(\"tr\")\n",
    "    sprites_normal, sprites_shiny = get_sprites(normal_row), get_sprites(shiny_row)\n",
    "    index.append((pokemon_name, sprites_normal[0]))\n",
    "    index.append((pokemon_name, sprites_shiny[0]))\n",
    "    df = pd.DataFrame([sprites_normal, sprites_shiny], columns=sprites_header, index=pd.MultiIndex.from_tuples(index, names=[\"Pokemon\", \"Type\"]))\n",
    "    df.drop(\"Type\", axis=1, inplace=True)\n",
    "    return df"
   ]
  },
  {
   "cell_type": "code",
   "execution_count": null,
   "metadata": {},
   "outputs": [
    {
     "data": {
      "text/html": [
       "\n",
       "<style>\n",
       "    /* Turns off some styling */\n",
       "    progress {\n",
       "        /* gets rid of default border in Firefox and Opera. */\n",
       "        border: none;\n",
       "        /* Needs to be in here for Safari polyfill so background images work as expected. */\n",
       "        background-size: auto;\n",
       "    }\n",
       "    progress:not([value]), progress:not([value])::-webkit-progress-bar {\n",
       "        background: repeating-linear-gradient(45deg, #7e7e7e, #7e7e7e 10px, #5c5c5c 10px, #5c5c5c 20px);\n",
       "    }\n",
       "    .progress-bar-interrupted, .progress-bar-interrupted::-webkit-progress-bar {\n",
       "        background: #F44336;\n",
       "    }\n",
       "</style>\n"
      ],
      "text/plain": [
       "<IPython.core.display.HTML object>"
      ]
     },
     "metadata": {},
     "output_type": "display_data"
    },
    {
     "data": {
      "text/html": [],
      "text/plain": [
       "<IPython.core.display.HTML object>"
      ]
     },
     "metadata": {},
     "output_type": "display_data"
    },
    {
     "data": {
      "text/html": [
       "<div>\n",
       "<style scoped>\n",
       "    .dataframe tbody tr th:only-of-type {\n",
       "        vertical-align: middle;\n",
       "    }\n",
       "\n",
       "    .dataframe tbody tr th {\n",
       "        vertical-align: top;\n",
       "    }\n",
       "\n",
       "    .dataframe thead th {\n",
       "        text-align: right;\n",
       "    }\n",
       "</style>\n",
       "<table border=\"1\" class=\"dataframe\">\n",
       "  <thead>\n",
       "    <tr style=\"text-align: right;\">\n",
       "      <th></th>\n",
       "      <th></th>\n",
       "      <th>Generation 1</th>\n",
       "      <th>Generation 2</th>\n",
       "      <th>Generation 3</th>\n",
       "      <th>Generation 4</th>\n",
       "      <th>Generation 5</th>\n",
       "      <th>Generation 6</th>\n",
       "      <th>Generation 7</th>\n",
       "      <th>Generation 8</th>\n",
       "      <th>Generation 9</th>\n",
       "    </tr>\n",
       "    <tr>\n",
       "      <th>Pokemon</th>\n",
       "      <th>Type</th>\n",
       "      <th></th>\n",
       "      <th></th>\n",
       "      <th></th>\n",
       "      <th></th>\n",
       "      <th></th>\n",
       "      <th></th>\n",
       "      <th></th>\n",
       "      <th></th>\n",
       "      <th></th>\n",
       "    </tr>\n",
       "  </thead>\n",
       "  <tbody>\n",
       "    <tr>\n",
       "      <th rowspan=\"2\" valign=\"top\">bulbasaur</th>\n",
       "      <th>Normal</th>\n",
       "      <td>https://img.pokemondb.net/sprites/red-blue/nor...</td>\n",
       "      <td>https://img.pokemondb.net/sprites/silver/norma...</td>\n",
       "      <td>https://img.pokemondb.net/sprites/ruby-sapphir...</td>\n",
       "      <td>https://img.pokemondb.net/sprites/diamond-pear...</td>\n",
       "      <td>https://img.pokemondb.net/sprites/black-white/...</td>\n",
       "      <td>https://img.pokemondb.net/sprites/x-y/normal/b...</td>\n",
       "      <td>None</td>\n",
       "      <td>https://img.pokemondb.net/sprites/sword-shield...</td>\n",
       "      <td>None</td>\n",
       "    </tr>\n",
       "    <tr>\n",
       "      <th>Shiny</th>\n",
       "      <td>None</td>\n",
       "      <td>https://img.pokemondb.net/sprites/silver/shiny...</td>\n",
       "      <td>https://img.pokemondb.net/sprites/ruby-sapphir...</td>\n",
       "      <td>https://img.pokemondb.net/sprites/diamond-pear...</td>\n",
       "      <td>https://img.pokemondb.net/sprites/black-white/...</td>\n",
       "      <td>https://img.pokemondb.net/sprites/x-y/shiny/bu...</td>\n",
       "      <td>None</td>\n",
       "      <td>None</td>\n",
       "      <td>None</td>\n",
       "    </tr>\n",
       "    <tr>\n",
       "      <th rowspan=\"2\" valign=\"top\">ivysaur</th>\n",
       "      <th>Normal</th>\n",
       "      <td>https://img.pokemondb.net/sprites/red-blue/nor...</td>\n",
       "      <td>https://img.pokemondb.net/sprites/silver/norma...</td>\n",
       "      <td>https://img.pokemondb.net/sprites/ruby-sapphir...</td>\n",
       "      <td>https://img.pokemondb.net/sprites/diamond-pear...</td>\n",
       "      <td>https://img.pokemondb.net/sprites/black-white/...</td>\n",
       "      <td>https://img.pokemondb.net/sprites/x-y/normal/i...</td>\n",
       "      <td>None</td>\n",
       "      <td>https://img.pokemondb.net/sprites/sword-shield...</td>\n",
       "      <td>None</td>\n",
       "    </tr>\n",
       "    <tr>\n",
       "      <th>Shiny</th>\n",
       "      <td>None</td>\n",
       "      <td>https://img.pokemondb.net/sprites/silver/shiny...</td>\n",
       "      <td>https://img.pokemondb.net/sprites/ruby-sapphir...</td>\n",
       "      <td>https://img.pokemondb.net/sprites/diamond-pear...</td>\n",
       "      <td>https://img.pokemondb.net/sprites/black-white/...</td>\n",
       "      <td>https://img.pokemondb.net/sprites/x-y/shiny/iv...</td>\n",
       "      <td>None</td>\n",
       "      <td>None</td>\n",
       "      <td>None</td>\n",
       "    </tr>\n",
       "    <tr>\n",
       "      <th>venusaur</th>\n",
       "      <th>Normal</th>\n",
       "      <td>https://img.pokemondb.net/sprites/red-blue/nor...</td>\n",
       "      <td>https://img.pokemondb.net/sprites/silver/norma...</td>\n",
       "      <td>https://img.pokemondb.net/sprites/ruby-sapphir...</td>\n",
       "      <td>https://img.pokemondb.net/sprites/diamond-pear...</td>\n",
       "      <td>https://img.pokemondb.net/sprites/black-white/...</td>\n",
       "      <td>https://img.pokemondb.net/sprites/x-y/normal/v...</td>\n",
       "      <td>None</td>\n",
       "      <td>https://img.pokemondb.net/sprites/sword-shield...</td>\n",
       "      <td>None</td>\n",
       "    </tr>\n",
       "  </tbody>\n",
       "</table>\n",
       "</div>"
      ],
      "text/plain": [
       "                                                       Generation 1  \\\n",
       "Pokemon   Type                                                        \n",
       "bulbasaur Normal  https://img.pokemondb.net/sprites/red-blue/nor...   \n",
       "          Shiny                                                None   \n",
       "ivysaur   Normal  https://img.pokemondb.net/sprites/red-blue/nor...   \n",
       "          Shiny                                                None   \n",
       "venusaur  Normal  https://img.pokemondb.net/sprites/red-blue/nor...   \n",
       "\n",
       "                                                       Generation 2  \\\n",
       "Pokemon   Type                                                        \n",
       "bulbasaur Normal  https://img.pokemondb.net/sprites/silver/norma...   \n",
       "          Shiny   https://img.pokemondb.net/sprites/silver/shiny...   \n",
       "ivysaur   Normal  https://img.pokemondb.net/sprites/silver/norma...   \n",
       "          Shiny   https://img.pokemondb.net/sprites/silver/shiny...   \n",
       "venusaur  Normal  https://img.pokemondb.net/sprites/silver/norma...   \n",
       "\n",
       "                                                       Generation 3  \\\n",
       "Pokemon   Type                                                        \n",
       "bulbasaur Normal  https://img.pokemondb.net/sprites/ruby-sapphir...   \n",
       "          Shiny   https://img.pokemondb.net/sprites/ruby-sapphir...   \n",
       "ivysaur   Normal  https://img.pokemondb.net/sprites/ruby-sapphir...   \n",
       "          Shiny   https://img.pokemondb.net/sprites/ruby-sapphir...   \n",
       "venusaur  Normal  https://img.pokemondb.net/sprites/ruby-sapphir...   \n",
       "\n",
       "                                                       Generation 4  \\\n",
       "Pokemon   Type                                                        \n",
       "bulbasaur Normal  https://img.pokemondb.net/sprites/diamond-pear...   \n",
       "          Shiny   https://img.pokemondb.net/sprites/diamond-pear...   \n",
       "ivysaur   Normal  https://img.pokemondb.net/sprites/diamond-pear...   \n",
       "          Shiny   https://img.pokemondb.net/sprites/diamond-pear...   \n",
       "venusaur  Normal  https://img.pokemondb.net/sprites/diamond-pear...   \n",
       "\n",
       "                                                       Generation 5  \\\n",
       "Pokemon   Type                                                        \n",
       "bulbasaur Normal  https://img.pokemondb.net/sprites/black-white/...   \n",
       "          Shiny   https://img.pokemondb.net/sprites/black-white/...   \n",
       "ivysaur   Normal  https://img.pokemondb.net/sprites/black-white/...   \n",
       "          Shiny   https://img.pokemondb.net/sprites/black-white/...   \n",
       "venusaur  Normal  https://img.pokemondb.net/sprites/black-white/...   \n",
       "\n",
       "                                                       Generation 6  \\\n",
       "Pokemon   Type                                                        \n",
       "bulbasaur Normal  https://img.pokemondb.net/sprites/x-y/normal/b...   \n",
       "          Shiny   https://img.pokemondb.net/sprites/x-y/shiny/bu...   \n",
       "ivysaur   Normal  https://img.pokemondb.net/sprites/x-y/normal/i...   \n",
       "          Shiny   https://img.pokemondb.net/sprites/x-y/shiny/iv...   \n",
       "venusaur  Normal  https://img.pokemondb.net/sprites/x-y/normal/v...   \n",
       "\n",
       "                 Generation 7  \\\n",
       "Pokemon   Type                  \n",
       "bulbasaur Normal         None   \n",
       "          Shiny          None   \n",
       "ivysaur   Normal         None   \n",
       "          Shiny          None   \n",
       "venusaur  Normal         None   \n",
       "\n",
       "                                                       Generation 8  \\\n",
       "Pokemon   Type                                                        \n",
       "bulbasaur Normal  https://img.pokemondb.net/sprites/sword-shield...   \n",
       "          Shiny                                                None   \n",
       "ivysaur   Normal  https://img.pokemondb.net/sprites/sword-shield...   \n",
       "          Shiny                                                None   \n",
       "venusaur  Normal  https://img.pokemondb.net/sprites/sword-shield...   \n",
       "\n",
       "                 Generation 9  \n",
       "Pokemon   Type                 \n",
       "bulbasaur Normal         None  \n",
       "          Shiny          None  \n",
       "ivysaur   Normal         None  \n",
       "          Shiny          None  \n",
       "venusaur  Normal         None  "
      ]
     },
     "execution_count": null,
     "metadata": {},
     "output_type": "execute_result"
    }
   ],
   "source": [
    "dfs = parallel(build_df_sprites, links, progress=True)\n",
    "dfs = pd.concat(dfs, axis=0)\n",
    "dfs.head()"
   ]
  },
  {
   "cell_type": "code",
   "execution_count": null,
   "metadata": {},
   "outputs": [
    {
     "data": {
      "text/plain": [
       "7228"
      ]
     },
     "execution_count": null,
     "metadata": {},
     "output_type": "execute_result"
    }
   ],
   "source": [
    "(~dfs.isna()).sum().sum()"
   ]
  },
  {
   "attachments": {},
   "cell_type": "markdown",
   "metadata": {},
   "source": [
    "Now what's left is downloading the data:"
   ]
  },
  {
   "attachments": {},
   "cell_type": "markdown",
   "metadata": {},
   "source": [
    "Now that we've figured almost everything up, we have to think about how do we want to store the data.\n",
    "\n",
    "There are two main possibilities that come to mind:\n",
    "\n",
    "1. A folder per pokemon.\n",
    "2. A folder per generation.\n",
    "\n",
    "We're going to go with option 2 as of now."
   ]
  },
  {
   "cell_type": "code",
   "execution_count": null,
   "metadata": {},
   "outputs": [],
   "source": [
    "def download_series(row):\n",
    "    idx, row = row\n",
    "    row = row[~row.isna()]\n",
    "    file_name_base = \"_\".join(idx)\n",
    "    for folder, link in progress_bar(row.items(), total=len(row)):\n",
    "        extension = link.split(\".\")[-1]\n",
    "        file_name = file_name_base + \".\" + extension\n",
    "        img_path = path_data / folder / file_name\n",
    "        ## Download the image\n",
    "        img = requests.get(link).content\n",
    "        ## Save the image\n",
    "        img_path.parent.mkdir(exist_ok=True, parents=True)\n",
    "        with open(img_path, \"wb\") as f: f.write(img)"
   ]
  },
  {
   "cell_type": "code",
   "execution_count": null,
   "metadata": {},
   "outputs": [
    {
     "data": {
      "text/html": [
       "\n",
       "<style>\n",
       "    /* Turns off some styling */\n",
       "    progress {\n",
       "        /* gets rid of default border in Firefox and Opera. */\n",
       "        border: none;\n",
       "        /* Needs to be in here for Safari polyfill so background images work as expected. */\n",
       "        background-size: auto;\n",
       "    }\n",
       "    progress:not([value]), progress:not([value])::-webkit-progress-bar {\n",
       "        background: repeating-linear-gradient(45deg, #7e7e7e, #7e7e7e 10px, #5c5c5c 10px, #5c5c5c 20px);\n",
       "    }\n",
       "    .progress-bar-interrupted, .progress-bar-interrupted::-webkit-progress-bar {\n",
       "        background: #F44336;\n",
       "    }\n",
       "</style>\n"
      ],
      "text/plain": [
       "<IPython.core.display.HTML object>"
      ]
     },
     "metadata": {},
     "output_type": "display_data"
    },
    {
     "data": {
      "text/html": [],
      "text/plain": [
       "<IPython.core.display.HTML object>"
      ]
     },
     "metadata": {},
     "output_type": "display_data"
    }
   ],
   "source": [
    "results = parallel(download_series, dfs.iterrows(), progress=True, total=len(dfs))"
   ]
  },
  {
   "attachments": {},
   "cell_type": "markdown",
   "metadata": {},
   "source": [
    "Let's see how many sprites did we download:"
   ]
  },
  {
   "cell_type": "code",
   "execution_count": null,
   "metadata": {},
   "outputs": [
    {
     "data": {
      "text/plain": [
       "7228"
      ]
     },
     "execution_count": null,
     "metadata": {},
     "output_type": "execute_result"
    }
   ],
   "source": [
    "len(list(path_data.glob(\"*/*\")))"
   ]
  }
 ],
 "metadata": {
  "kernelspec": {
   "display_name": "gpu",
   "language": "python",
   "name": "python3"
  }
 },
 "nbformat": 4,
 "nbformat_minor": 2
}
