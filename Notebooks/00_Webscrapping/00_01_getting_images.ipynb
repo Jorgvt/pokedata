{
 "cells": [
  {
   "cell_type": "code",
   "execution_count": null,
   "metadata": {},
   "outputs": [],
   "source": [
    "#| default_exp scrape.images"
   ]
  },
  {
   "attachments": {},
   "cell_type": "markdown",
   "metadata": {},
   "source": [
    "# Getting stats\n",
    "\n",
    "> Our first step will be obtaining the stats of the Pokémon."
   ]
  },
  {
   "attachments": {},
   "cell_type": "markdown",
   "metadata": {},
   "source": [
    "I found *pokemondb* to be an interesting source of information. Our first step is going to be trying to scrape this table containing all the pokemons and their respective stats: https://pokemondb.net/pokedex/all"
   ]
  },
  {
   "cell_type": "code",
   "execution_count": null,
   "metadata": {},
   "outputs": [],
   "source": [
    "#| export\n",
    "import re\n",
    "import requests\n",
    "from bs4 import BeautifulSoup\n",
    "\n",
    "import pandas as pd\n",
    "from fastcore.foundation import L\n",
    "from fastcore.xtras import Path\n",
    "from fastcore.parallel import parallel\n",
    "from fastprogress.fastprogress import progress_bar"
   ]
  },
  {
   "attachments": {},
   "cell_type": "markdown",
   "metadata": {},
   "source": [
    "First we'll obtain the webpage with `requests`:"
   ]
  },
  {
   "cell_type": "code",
   "execution_count": null,
   "metadata": {},
   "outputs": [
    {
     "data": {
      "text/plain": [
       "<Response [200]>"
      ]
     },
     "execution_count": null,
     "metadata": {},
     "output_type": "execute_result"
    }
   ],
   "source": [
    "r = requests.get(\"https://pokemondb.net/pokedex/all\")\n",
    "r"
   ]
  },
  {
   "attachments": {},
   "cell_type": "markdown",
   "metadata": {},
   "source": [
    "Then, we can parse it with `BeautifulSoup`:"
   ]
  },
  {
   "cell_type": "code",
   "execution_count": null,
   "metadata": {},
   "outputs": [],
   "source": [
    "soup = BeautifulSoup(r.text, \"html.parser\")"
   ]
  },
  {
   "attachments": {},
   "cell_type": "markdown",
   "metadata": {},
   "source": [
    "First we will trying to get the header of the table. It's inside a `<thead>`, so it should be easy to get:"
   ]
  },
  {
   "cell_type": "code",
   "execution_count": null,
   "metadata": {},
   "outputs": [
    {
     "data": {
      "text/plain": [
       "(#10) ['#','Name','Type','Total','HP','Attack','Defense','Sp. Atk','Sp. Def','Speed']"
      ]
     },
     "execution_count": null,
     "metadata": {},
     "output_type": "execute_result"
    }
   ],
   "source": [
    "header = soup.find(\"thead\")\n",
    "header = L([th.text for th in header.find_all(\"th\")])\n",
    "header"
   ]
  },
  {
   "attachments": {},
   "cell_type": "markdown",
   "metadata": {},
   "source": [
    "The information we want is inside a `<table>` with `id=pokedex`, so we can use `find()` to try and find it:"
   ]
  },
  {
   "cell_type": "code",
   "execution_count": null,
   "metadata": {},
   "outputs": [],
   "source": [
    "pokedex = soup.find(\"table\", id=\"pokedex\")"
   ]
  },
  {
   "attachments": {},
   "cell_type": "markdown",
   "metadata": {},
   "source": [
    "The links are located inside the `<td>` of class `cell-name`:"
   ]
  },
  {
   "cell_type": "code",
   "execution_count": null,
   "metadata": {},
   "outputs": [
    {
     "data": {
      "text/plain": [
       "(#1190) ['/pokedex/bulbasaur','/pokedex/ivysaur','/pokedex/venusaur','/pokedex/venusaur','/pokedex/charmander','/pokedex/charmeleon','/pokedex/charizard','/pokedex/charizard','/pokedex/charizard','/pokedex/squirtle'...]"
      ]
     },
     "execution_count": null,
     "metadata": {},
     "output_type": "execute_result"
    }
   ],
   "source": [
    "links = L([cell_name.a[\"href\"] for cell_name in pokedex.find_all(\"td\", {\"class\": \"cell-name\"})])\n",
    "links"
   ]
  },
  {
   "attachments": {},
   "cell_type": "markdown",
   "metadata": {},
   "source": [
    "Because we don't want to have repeated data, we can keep only the unique elements:"
   ]
  },
  {
   "cell_type": "code",
   "execution_count": null,
   "metadata": {},
   "outputs": [
    {
     "data": {
      "text/plain": [
       "(#1008) ['/pokedex/bulbasaur','/pokedex/ivysaur','/pokedex/venusaur','/pokedex/charmander','/pokedex/charmeleon','/pokedex/charizard','/pokedex/squirtle','/pokedex/wartortle','/pokedex/blastoise','/pokedex/caterpie'...]"
      ]
     },
     "execution_count": null,
     "metadata": {},
     "output_type": "execute_result"
    }
   ],
   "source": [
    "links = links.unique()\n",
    "links"
   ]
  },
  {
   "attachments": {},
   "cell_type": "markdown",
   "metadata": {},
   "source": [
    "Now we can iterate over the links to get all the images:"
   ]
  },
  {
   "cell_type": "code",
   "execution_count": null,
   "metadata": {},
   "outputs": [],
   "source": [
    "home = \"https://pokemondb.net\"\n",
    "path_data = Path(\"../../Data/Images/Base\")"
   ]
  },
  {
   "cell_type": "code",
   "execution_count": null,
   "metadata": {},
   "outputs": [],
   "source": [
    "#| export\n",
    "def download_img(link):\n",
    "    route = f\"{home}/{link}\"\n",
    "    r_ = requests.get(route)\n",
    "    soup_ = BeautifulSoup(r_.text, \"html.parser\")\n",
    "    try:\n",
    "        img_link = soup_.find(\"a\", attrs={\"rel\": \"lightbox\"})[\"href\"]\n",
    "    except:\n",
    "        return False\n",
    "    file_name = img_link.split(\"/\")[-1]\n",
    "    with open(path_data / file_name, \"wb\") as f: \n",
    "        f.write(requests.get(img_link).content)\n",
    "    return True"
   ]
  },
  {
   "attachments": {},
   "cell_type": "markdown",
   "metadata": {},
   "source": [
    "We can parallelize the process of downloading the images:"
   ]
  },
  {
   "cell_type": "code",
   "execution_count": null,
   "metadata": {},
   "outputs": [
    {
     "name": "stdout",
     "output_type": "stream",
     "text": [
      "                                                                           \r"
     ]
    },
    {
     "data": {
      "text/plain": [
       "(#1008) [True,True,True,True,True,True,True,True,True,True...]"
      ]
     },
     "execution_count": null,
     "metadata": {},
     "output_type": "execute_result"
    }
   ],
   "source": [
    "downloads = parallel(download_img, links, progress=True)\n",
    "downloads"
   ]
  },
  {
   "cell_type": "code",
   "execution_count": null,
   "metadata": {},
   "outputs": [
    {
     "data": {
      "text/plain": [
       "922"
      ]
     },
     "execution_count": null,
     "metadata": {},
     "output_type": "execute_result"
    }
   ],
   "source": [
    "sum(downloads)"
   ]
  },
  {
   "attachments": {},
   "cell_type": "markdown",
   "metadata": {},
   "source": [
    "We see that not all the images could be downloaded, but we got a good bunch of them. This could require some further investigation but, as of now, we're happy with what we have."
   ]
  }
 ],
 "metadata": {
  "kernelspec": {
   "display_name": "Python 3",
   "language": "python",
   "name": "python3"
  }
 },
 "nbformat": 4,
 "nbformat_minor": 2
}
