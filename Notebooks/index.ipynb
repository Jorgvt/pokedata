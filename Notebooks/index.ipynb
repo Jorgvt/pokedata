{
 "cells": [
  {
   "cell_type": "markdown",
   "metadata": {},
   "source": [
    "# pokedata\n",
    "\n",
    "> Project about webscrapping Pokemon data from the internet and building and app to be able to quickly obtain information from the data to ease competitive team building."
   ]
  },
  {
   "cell_type": "markdown",
   "metadata": {},
   "source": [
    "## How to use"
   ]
  },
  {
   "attachments": {},
   "cell_type": "markdown",
   "metadata": {},
   "source": [
    "First you will need to obtain the pokemon stats. To do so, run notebook `00_00_getting_stats.ipynb`."
   ]
  }
 ],
 "metadata": {
  "kernelspec": {
   "display_name": "Python 3",
   "language": "python",
   "name": "python3"
  }
 },
 "nbformat": 4,
 "nbformat_minor": 4
}
